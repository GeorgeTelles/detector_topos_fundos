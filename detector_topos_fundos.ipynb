{
  "nbformat": 4,
  "nbformat_minor": 0,
  "metadata": {
    "colab": {
      "provenance": [],
      "include_colab_link": true
    },
    "kernelspec": {
      "name": "python3",
      "display_name": "Python 3"
    },
    "language_info": {
      "name": "python"
    }
  },
  "cells": [
    {
      "cell_type": "markdown",
      "metadata": {
        "id": "view-in-github",
        "colab_type": "text"
      },
      "source": [
        "<a href=\"https://colab.research.google.com/github/GeorgeTelles/detector_topos_fundos/blob/main/detector_topos_fundos.ipynb\" target=\"_parent\"><img src=\"https://colab.research.google.com/assets/colab-badge.svg\" alt=\"Open In Colab\"/></a>"
      ]
    },
    {
      "cell_type": "markdown",
      "source": [
        "<a href=\"https://postimg.cc/FYtnXpJw\">\n",
        "  <img src=\"https://i.postimg.cc/t470PmRR/logo-sem-fundo-01.png\" alt=\"logo\" width=\"300\">\n",
        "</a>"
      ],
      "metadata": {
        "id": "lwGTyCZM8Pbd"
      }
    },
    {
      "cell_type": "markdown",
      "source": [
        "---\n",
        "# **Detector de topos e fundos**\n",
        "\n",
        "#### Este projeto em Python realiza a análise de dados financeiros para detectar automaticamente topos e fundos de um ativo. Utilizando técnicas de análise de séries temporais e detecção de padrões, o sistema identifica pontos críticos de máximo e mínimo no gráfico. Além disso, o projeto cria visualização dessas informações ao destacar os topos e fundos diretamente no gráfico, facilitando a interpretação e a tomada de decisões financeiras. A ferramenta é ideal para traders e investidores que buscam uma maneira automatizada de analisar tendências e padrões de mercado.\n",
        "\n",
        "\n",
        "---"
      ],
      "metadata": {
        "id": "QOL5rohn8alC"
      }
    },
    {
      "cell_type": "markdown",
      "source": [
        "#1. Bibliotecas"
      ],
      "metadata": {
        "id": "Tb-4Cnz_80Ya"
      }
    },
    {
      "cell_type": "code",
      "source": [
        "!pip install mplfinance"
      ],
      "metadata": {
        "id": "bJLGSghk9UxT"
      },
      "execution_count": null,
      "outputs": []
    },
    {
      "cell_type": "code",
      "source": [
        "import pandas as pd\n",
        "import numpy as np\n",
        "import pytz\n",
        "import yfinance as yf\n",
        "import mplfinance as mpf\n",
        "import plotly.graph_objects as go"
      ],
      "metadata": {
        "id": "XzjIsYIZ850f"
      },
      "execution_count": null,
      "outputs": []
    },
    {
      "cell_type": "markdown",
      "source": [
        "#2. Obtenção de dados OHLC"
      ],
      "metadata": {
        "id": "ymarqeIs9nYg"
      }
    },
    {
      "cell_type": "code",
      "source": [
        "df = yf.download('^BVSP', period=\"5y\", interval='1d')"
      ],
      "metadata": {
        "id": "vPvDW0en94cG"
      },
      "execution_count": null,
      "outputs": []
    },
    {
      "cell_type": "markdown",
      "source": [
        "#3. Construção das Funções"
      ],
      "metadata": {
        "id": "K9QSuleL-nRm"
      }
    },
    {
      "cell_type": "code",
      "source": [
        "df_invertido = df.iloc[::-1]\n",
        "df_invertido['Low'] <= df_invertido['Low'].rolling(2, closed='left').min()\n",
        "pass"
      ],
      "metadata": {
        "id": "1t1EI2YpC_dq"
      },
      "execution_count": null,
      "outputs": []
    },
    {
      "cell_type": "code",
      "source": [
        "def localizador_fundos(df, n_candles=5):\n",
        "  df_invertido = df.iloc[::-1]\n",
        "\n",
        "  cond_low_anteriores = df['Low'] <= df['Low'].rolling(n_candles, closed='left').min()\n",
        "  cond_low_posteriores = df_invertido['Low'] <= df_invertido['Low'].rolling(n_candles, closed='left').min()\n",
        "\n",
        "  return (cond_low_anteriores & cond_low_posteriores)\n",
        "\n",
        "def localizador_topos(df, n_candles=2):\n",
        "  df_invertido = df.iloc[::-1]\n",
        "\n",
        "  cond_high_anteriores = df['High'] <= df['High'].rolling(n_candles, closed='left').max()\n",
        "  cond_high_posteriores = df_invertido['High'] <= df_invertido['High'].rolling(n_candles, closed='left').max()\n",
        "\n",
        "  return (cond_high_anteriores & cond_high_posteriores)"
      ],
      "metadata": {
        "id": "Nqel69waDYMi"
      },
      "execution_count": null,
      "outputs": []
    },
    {
      "cell_type": "code",
      "source": [
        "localizador_fundos(df)\n",
        "localizador_topos(df)\n",
        "pass"
      ],
      "metadata": {
        "id": "r9W03xmHEFlq"
      },
      "execution_count": null,
      "outputs": []
    },
    {
      "cell_type": "code",
      "source": [
        "n_candles = 10\n",
        "ls_vertices = ['neutro']\n",
        "\n",
        "dict_topos_fundos = {'vertice': [], 'data': [], 'preco': []}\n",
        "\n",
        "for i in range(len(df)):\n",
        "\n",
        "  if localizador_fundos(df, n_candles).iloc[i]:\n",
        "\n",
        "    if ls_vertices[-1] != 'fundo':\n",
        "      dict_topos_fundos['vertice'].append('fundo')\n",
        "      dict_topos_fundos['data'].append(df.index[i])\n",
        "      dict_topos_fundos['preco'].append(df.Low.iloc[i])\n",
        "      ls_vertices.append('fundo')\n",
        "\n",
        "    else:\n",
        "      if df.Low.iloc[i] < dict_topos_fundos['preco'][-1]:\n",
        "        dict_topos_fundos['data'][-1] = df.index[i]\n",
        "        dict_topos_fundos['preco'][-1] = df.Low.iloc[i]\n",
        "\n",
        "  if localizador_topos(df, n_candles).iloc[i]:\n",
        "\n",
        "    if ls_vertices[-1] != 'topo':\n",
        "      dict_topos_fundos['vertice'].append('topo')\n",
        "      dict_topos_fundos['data'].append(df.index[i])\n",
        "      dict_topos_fundos['preco'].append(df.High.iloc[i])\n",
        "      ls_vertices.append('topo')\n",
        "\n",
        "    else:\n",
        "      if df.High.iloc[i] > dict_topos_fundos['preco'][-1]:\n",
        "        dict_topos_fundos['data'][-1] = df.index[i]\n",
        "        dict_topos_fundos['preco'][-1] = df.High.iloc[i]"
      ],
      "metadata": {
        "id": "2D4m01pOIlys"
      },
      "execution_count": null,
      "outputs": []
    },
    {
      "cell_type": "code",
      "source": [
        "df_topos_fundos = pd.DataFrame(dict_topos_fundos)\n",
        "df_topos_fundos.index = df_topos_fundos.data\n",
        "\n",
        "df_final = pd.merge(df, df_topos_fundos, left_index=True, right_index=True, how='left')\n",
        "\n",
        "df_figure = df_final\n",
        "\n",
        "\n",
        "\n",
        "df_topos_fundos.index = pd.to_datetime(df_topos_fundos.index)\n",
        "df_final = pd.merge(df, df_topos_fundos, left_index=True, right_index=True, how='left')\n",
        "df_figure = df_final\n",
        "\n",
        "fig_topos_fundos = go.Figure(data=[go.Candlestick(\n",
        "    name='',\n",
        "    x=df_figure.index,\n",
        "    open=df_figure.Open,\n",
        "    high=df_figure.High,\n",
        "    low=df_figure.Low,\n",
        "    close=df_figure.Close,\n",
        "    increasing_line_color='green',\n",
        "    decreasing_line_color='red',\n",
        "    showlegend=False)])\n",
        "\n",
        "fig_topos_fundos.add_trace(go.Scatter(\n",
        "    x=df_topos_fundos.index,\n",
        "    y=df_topos_fundos.preco,\n",
        "    mode='lines',\n",
        "    line_width=2,\n",
        "    line_dash='solid',\n",
        "    line_color='black',\n",
        "    name='Topos / Fundos',\n",
        "    showlegend=True\n",
        "))\n",
        "\n",
        "fig_topos_fundos.update_xaxes(rangebreaks=[dict(bounds=['sat', 'mon'])])\n",
        "\n",
        "fig_topos_fundos.update_layout(\n",
        "    xaxis_rangeslider_visible=False,\n",
        "    title_text='<b>Detector de Topos e Fundos',\n",
        "    template='none',\n",
        "    margin=dict(l=75, r=75, t=75, b=75),\n",
        "    paper_bgcolor='#f7f8fa',\n",
        "    width=1600,\n",
        "    height=600\n",
        ")\n",
        "\n",
        "fig_topos_fundos.show()\n"
      ],
      "metadata": {
        "id": "M2bv9yRyiwfa"
      },
      "execution_count": null,
      "outputs": []
    }
  ]
}